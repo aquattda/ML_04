{
 "cells": [
  {
   "cell_type": "code",
   "execution_count": 7,
   "id": "57b38c8f",
   "metadata": {},
   "outputs": [
    {
     "name": "stdout",
     "output_type": "stream",
     "text": [
      "{'name': 'Vuong', 'Dep_trai': 'Good'}\n"
     ]
    }
   ],
   "source": [
    "my_dict = {\"name\": \"Vuong\", \"Dep_trai\": \"Good\"}\n",
    "print(my_dict)"
   ]
  },
  {
   "cell_type": "code",
   "execution_count": null,
   "id": "406c18dc",
   "metadata": {},
   "outputs": [],
   "source": [
    "def predict([x1,x2,x3, ...., xn]):\n",
    "    linear_model = a1x1 + a2x2 + ... + anxn"
   ]
  }
 ],
 "metadata": {
  "kernelspec": {
   "display_name": "venv",
   "language": "python",
   "name": "python3"
  },
  "language_info": {
   "codemirror_mode": {
    "name": "ipython",
    "version": 3
   },
   "file_extension": ".py",
   "mimetype": "text/x-python",
   "name": "python",
   "nbconvert_exporter": "python",
   "pygments_lexer": "ipython3",
   "version": "3.12.7"
  }
 },
 "nbformat": 4,
 "nbformat_minor": 5
}
